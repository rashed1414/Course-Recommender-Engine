{
 "cells": [
  {
   "cell_type": "markdown",
   "metadata": {},
   "source": [
    "#### Course Recommendation System using Udemy Dataset\n",
    "\n",
    "#### Algo\n",
    "+ Cosine Similarity\n",
    "+ ML Models\n",
    "\n",
    "\n",
    "#### Workflow\n",
    "+ Dataset\n",
    "+ Vectorized our dataset\n",
    "+ Cosine Similarity Matrix\n",
    "+ ID,Score\n",
    "+ Train ML Model\n",
    "+ Recommend\n"
   ]
  },
  {
   "cell_type": "code",
   "execution_count": 1,
   "metadata": {},
   "outputs": [],
   "source": [
    "# Load EDA Pkgs\n",
    "import pandas as pd\n",
    "import neattext.functions as nfx"
   ]
  },
  {
   "cell_type": "code",
   "execution_count": 2,
   "metadata": {},
   "outputs": [],
   "source": [
    "# Load ML/Rc Pkgs\n",
    "from sklearn.feature_extraction.text import CountVectorizer,TfidfVectorizer\n",
    "from sklearn.metrics.pairwise import cosine_similarity,linear_kernel\n",
    "from sklearn.cluster import KMeans\n",
    "from matplotlib import pyplot as plt"
   ]
  },
  {
   "cell_type": "code",
   "execution_count": 3,
   "metadata": {},
   "outputs": [],
   "source": [
    "# Load our dataset\n",
    "df = pd.read_csv(\"Courses_rec.csv\")"
   ]
  },
  {
   "cell_type": "code",
   "execution_count": 4,
   "metadata": {
    "jupyter": {
     "outputs_hidden": true
    }
   },
   "outputs": [
    {
     "data": {
      "text/html": [
       "<div>\n",
       "<style scoped>\n",
       "    .dataframe tbody tr th:only-of-type {\n",
       "        vertical-align: middle;\n",
       "    }\n",
       "\n",
       "    .dataframe tbody tr th {\n",
       "        vertical-align: top;\n",
       "    }\n",
       "\n",
       "    .dataframe thead th {\n",
       "        text-align: right;\n",
       "    }\n",
       "</style>\n",
       "<table border=\"1\" class=\"dataframe\">\n",
       "  <thead>\n",
       "    <tr style=\"text-align: right;\">\n",
       "      <th></th>\n",
       "      <th>course_title</th>\n",
       "      <th>course_field</th>\n",
       "      <th>diff_level</th>\n",
       "    </tr>\n",
       "  </thead>\n",
       "  <tbody>\n",
       "    <tr>\n",
       "      <th>0</th>\n",
       "      <td>Data Engineer</td>\n",
       "      <td>School of Data Science</td>\n",
       "      <td>Intermediate</td>\n",
       "    </tr>\n",
       "    <tr>\n",
       "      <th>1</th>\n",
       "      <td>Data Scientist</td>\n",
       "      <td>School of Data Science</td>\n",
       "      <td>Advanced</td>\n",
       "    </tr>\n",
       "    <tr>\n",
       "      <th>2</th>\n",
       "      <td>Data Analyst</td>\n",
       "      <td>School of Data Science</td>\n",
       "      <td>Intermediate</td>\n",
       "    </tr>\n",
       "    <tr>\n",
       "      <th>3</th>\n",
       "      <td>C++</td>\n",
       "      <td>School of Autonomous Systems</td>\n",
       "      <td>Intermediate</td>\n",
       "    </tr>\n",
       "    <tr>\n",
       "      <th>4</th>\n",
       "      <td>Product Manager</td>\n",
       "      <td>School of Product Management</td>\n",
       "      <td>Beginner</td>\n",
       "    </tr>\n",
       "    <tr>\n",
       "      <th>5</th>\n",
       "      <td>Business Analytics</td>\n",
       "      <td>School of Business</td>\n",
       "      <td>Beginner</td>\n",
       "    </tr>\n",
       "    <tr>\n",
       "      <th>6</th>\n",
       "      <td>Introduction to Programming</td>\n",
       "      <td>School of Programming &amp; Development</td>\n",
       "      <td>Beginner</td>\n",
       "    </tr>\n",
       "    <tr>\n",
       "      <th>7</th>\n",
       "      <td>Digital Marketing</td>\n",
       "      <td>School of Business</td>\n",
       "      <td>Beginner</td>\n",
       "    </tr>\n",
       "    <tr>\n",
       "      <th>8</th>\n",
       "      <td>Deep Learning</td>\n",
       "      <td>School of Artificial Intelligence</td>\n",
       "      <td>Intermediate</td>\n",
       "    </tr>\n",
       "    <tr>\n",
       "      <th>9</th>\n",
       "      <td>Blockchain Developer</td>\n",
       "      <td>School of Programming &amp; Development</td>\n",
       "      <td>Intermediate</td>\n",
       "    </tr>\n",
       "  </tbody>\n",
       "</table>\n",
       "</div>"
      ],
      "text/plain": [
       "                  course_title                         course_field  \\\n",
       "0                Data Engineer               School of Data Science   \n",
       "1               Data Scientist               School of Data Science   \n",
       "2                 Data Analyst               School of Data Science   \n",
       "3                          C++         School of Autonomous Systems   \n",
       "4              Product Manager         School of Product Management   \n",
       "5           Business Analytics                   School of Business   \n",
       "6  Introduction to Programming  School of Programming & Development   \n",
       "7            Digital Marketing                   School of Business   \n",
       "8                Deep Learning    School of Artificial Intelligence   \n",
       "9         Blockchain Developer  School of Programming & Development   \n",
       "\n",
       "     diff_level  \n",
       "0  Intermediate  \n",
       "1      Advanced  \n",
       "2  Intermediate  \n",
       "3  Intermediate  \n",
       "4      Beginner  \n",
       "5      Beginner  \n",
       "6      Beginner  \n",
       "7      Beginner  \n",
       "8  Intermediate  \n",
       "9  Intermediate  "
      ]
     },
     "execution_count": 4,
     "metadata": {},
     "output_type": "execute_result"
    }
   ],
   "source": [
    "df.head(10)"
   ]
  },
  {
   "cell_type": "code",
   "execution_count": 5,
   "metadata": {
    "jupyter": {
     "outputs_hidden": true
    }
   },
   "outputs": [
    {
     "data": {
      "text/plain": [
       "0                                           Data Engineer\n",
       "1                                          Data Scientist\n",
       "2                                            Data Analyst\n",
       "3                                                     C++\n",
       "4                                         Product Manager\n",
       "                              ...                        \n",
       "3936    Learn jQuery from Scratch - Master of JavaScri...\n",
       "3937    How To Design A WordPress Website With No Codi...\n",
       "3938                        Learn and Build using Polymer\n",
       "3939    CSS Animations: Create Amazing Effects on Your...\n",
       "3940    Using MODX CMS to Build Websites: A Beginner's...\n",
       "Name: course_title, Length: 3941, dtype: object"
      ]
     },
     "execution_count": 5,
     "metadata": {},
     "output_type": "execute_result"
    }
   ],
   "source": [
    "df['course_title']"
   ]
  },
  {
   "cell_type": "markdown",
   "metadata": {},
   "source": [
    "#  Data Cleaning & Preparing"
   ]
  },
  {
   "cell_type": "code",
   "execution_count": 11,
   "metadata": {},
   "outputs": [],
   "source": [
    "# Clean Text:stopwords,special charac\n",
    "df['clean_course_title'] = df['course_title'].apply(nfx.remove_stopwords)"
   ]
  },
  {
   "cell_type": "code",
   "execution_count": 12,
   "metadata": {},
   "outputs": [],
   "source": [
    "# Clean Text:stopwords,special charac\n",
    "df['clean_course_title'] = df['clean_course_title'].apply(nfx.remove_special_characters)"
   ]
  },
  {
   "cell_type": "code",
   "execution_count": 13,
   "metadata": {},
   "outputs": [
    {
     "data": {
      "text/html": [
       "<div>\n",
       "<style scoped>\n",
       "    .dataframe tbody tr th:only-of-type {\n",
       "        vertical-align: middle;\n",
       "    }\n",
       "\n",
       "    .dataframe tbody tr th {\n",
       "        vertical-align: top;\n",
       "    }\n",
       "\n",
       "    .dataframe thead th {\n",
       "        text-align: right;\n",
       "    }\n",
       "</style>\n",
       "<table border=\"1\" class=\"dataframe\">\n",
       "  <thead>\n",
       "    <tr style=\"text-align: right;\">\n",
       "      <th></th>\n",
       "      <th>course_title</th>\n",
       "      <th>clean_course_title</th>\n",
       "    </tr>\n",
       "  </thead>\n",
       "  <tbody>\n",
       "    <tr>\n",
       "      <th>0</th>\n",
       "      <td>Data Engineer</td>\n",
       "      <td>Data Engineer</td>\n",
       "    </tr>\n",
       "    <tr>\n",
       "      <th>1</th>\n",
       "      <td>Data Scientist</td>\n",
       "      <td>Data Scientist</td>\n",
       "    </tr>\n",
       "    <tr>\n",
       "      <th>2</th>\n",
       "      <td>Data Analyst</td>\n",
       "      <td>Data Analyst</td>\n",
       "    </tr>\n",
       "    <tr>\n",
       "      <th>3</th>\n",
       "      <td>C++</td>\n",
       "      <td>C</td>\n",
       "    </tr>\n",
       "    <tr>\n",
       "      <th>4</th>\n",
       "      <td>Product Manager</td>\n",
       "      <td>Product Manager</td>\n",
       "    </tr>\n",
       "    <tr>\n",
       "      <th>...</th>\n",
       "      <td>...</td>\n",
       "      <td>...</td>\n",
       "    </tr>\n",
       "    <tr>\n",
       "      <th>3936</th>\n",
       "      <td>Learn jQuery from Scratch - Master of JavaScri...</td>\n",
       "      <td>Learn jQuery Scratch  Master JavaScript library</td>\n",
       "    </tr>\n",
       "    <tr>\n",
       "      <th>3937</th>\n",
       "      <td>How To Design A WordPress Website With No Codi...</td>\n",
       "      <td>Design WordPress Website Coding</td>\n",
       "    </tr>\n",
       "    <tr>\n",
       "      <th>3938</th>\n",
       "      <td>Learn and Build using Polymer</td>\n",
       "      <td>Learn Build Polymer</td>\n",
       "    </tr>\n",
       "    <tr>\n",
       "      <th>3939</th>\n",
       "      <td>CSS Animations: Create Amazing Effects on Your...</td>\n",
       "      <td>CSS Animations Create Amazing Effects Website</td>\n",
       "    </tr>\n",
       "    <tr>\n",
       "      <th>3940</th>\n",
       "      <td>Using MODX CMS to Build Websites: A Beginner's...</td>\n",
       "      <td>MODX CMS Build Websites Beginners Guide</td>\n",
       "    </tr>\n",
       "  </tbody>\n",
       "</table>\n",
       "<p>3941 rows × 2 columns</p>\n",
       "</div>"
      ],
      "text/plain": [
       "                                           course_title  \\\n",
       "0                                         Data Engineer   \n",
       "1                                        Data Scientist   \n",
       "2                                          Data Analyst   \n",
       "3                                                   C++   \n",
       "4                                       Product Manager   \n",
       "...                                                 ...   \n",
       "3936  Learn jQuery from Scratch - Master of JavaScri...   \n",
       "3937  How To Design A WordPress Website With No Codi...   \n",
       "3938                      Learn and Build using Polymer   \n",
       "3939  CSS Animations: Create Amazing Effects on Your...   \n",
       "3940  Using MODX CMS to Build Websites: A Beginner's...   \n",
       "\n",
       "                                   clean_course_title  \n",
       "0                                       Data Engineer  \n",
       "1                                      Data Scientist  \n",
       "2                                        Data Analyst  \n",
       "3                                                   C  \n",
       "4                                     Product Manager  \n",
       "...                                               ...  \n",
       "3936  Learn jQuery Scratch  Master JavaScript library  \n",
       "3937                  Design WordPress Website Coding  \n",
       "3938                              Learn Build Polymer  \n",
       "3939    CSS Animations Create Amazing Effects Website  \n",
       "3940          MODX CMS Build Websites Beginners Guide  \n",
       "\n",
       "[3941 rows x 2 columns]"
      ]
     },
     "execution_count": 13,
     "metadata": {},
     "output_type": "execute_result"
    }
   ],
   "source": [
    "df[['course_title','clean_course_title']]"
   ]
  },
  {
   "cell_type": "markdown",
   "metadata": {},
   "source": [
    "#  Building Victorizer and Cosine Similarty Matrix For Courses Title"
   ]
  },
  {
   "cell_type": "code",
   "execution_count": 14,
   "metadata": {},
   "outputs": [],
   "source": [
    "# Vectorize our Text\n",
    "vect = TfidfVectorizer()\n",
    "cv_mat = vect.fit_transform(df['clean_course_title'])"
   ]
  },
  {
   "cell_type": "code",
   "execution_count": 16,
   "metadata": {},
   "outputs": [],
   "source": [
    "df_cv_words = pd.DataFrame(cv_mat.todense(),columns=vect.get_feature_names())"
   ]
  },
  {
   "cell_type": "code",
   "execution_count": 17,
   "metadata": {},
   "outputs": [
    {
     "data": {
      "text/html": [
       "<div>\n",
       "<style scoped>\n",
       "    .dataframe tbody tr th:only-of-type {\n",
       "        vertical-align: middle;\n",
       "    }\n",
       "\n",
       "    .dataframe tbody tr th {\n",
       "        vertical-align: top;\n",
       "    }\n",
       "\n",
       "    .dataframe thead th {\n",
       "        text-align: right;\n",
       "    }\n",
       "</style>\n",
       "<table border=\"1\" class=\"dataframe\">\n",
       "  <thead>\n",
       "    <tr style=\"text-align: right;\">\n",
       "      <th></th>\n",
       "      <th>000005</th>\n",
       "      <th>001</th>\n",
       "      <th>01</th>\n",
       "      <th>02</th>\n",
       "      <th>10</th>\n",
       "      <th>100</th>\n",
       "      <th>101</th>\n",
       "      <th>101master</th>\n",
       "      <th>102</th>\n",
       "      <th>10k</th>\n",
       "      <th>...</th>\n",
       "      <th>zend</th>\n",
       "      <th>zero</th>\n",
       "      <th>zerotohero</th>\n",
       "      <th>zf2</th>\n",
       "      <th>zinsen</th>\n",
       "      <th>zoho</th>\n",
       "      <th>zombie</th>\n",
       "      <th>zu</th>\n",
       "      <th>zuhause</th>\n",
       "      <th>zur</th>\n",
       "    </tr>\n",
       "  </thead>\n",
       "  <tbody>\n",
       "    <tr>\n",
       "      <th>0</th>\n",
       "      <td>0.0</td>\n",
       "      <td>0.0</td>\n",
       "      <td>0.0</td>\n",
       "      <td>0.0</td>\n",
       "      <td>0.0</td>\n",
       "      <td>0.0</td>\n",
       "      <td>0.0</td>\n",
       "      <td>0.0</td>\n",
       "      <td>0.0</td>\n",
       "      <td>0.0</td>\n",
       "      <td>...</td>\n",
       "      <td>0.0</td>\n",
       "      <td>0.0</td>\n",
       "      <td>0.0</td>\n",
       "      <td>0.0</td>\n",
       "      <td>0.0</td>\n",
       "      <td>0.0</td>\n",
       "      <td>0.0</td>\n",
       "      <td>0.0</td>\n",
       "      <td>0.0</td>\n",
       "      <td>0.0</td>\n",
       "    </tr>\n",
       "    <tr>\n",
       "      <th>1</th>\n",
       "      <td>0.0</td>\n",
       "      <td>0.0</td>\n",
       "      <td>0.0</td>\n",
       "      <td>0.0</td>\n",
       "      <td>0.0</td>\n",
       "      <td>0.0</td>\n",
       "      <td>0.0</td>\n",
       "      <td>0.0</td>\n",
       "      <td>0.0</td>\n",
       "      <td>0.0</td>\n",
       "      <td>...</td>\n",
       "      <td>0.0</td>\n",
       "      <td>0.0</td>\n",
       "      <td>0.0</td>\n",
       "      <td>0.0</td>\n",
       "      <td>0.0</td>\n",
       "      <td>0.0</td>\n",
       "      <td>0.0</td>\n",
       "      <td>0.0</td>\n",
       "      <td>0.0</td>\n",
       "      <td>0.0</td>\n",
       "    </tr>\n",
       "    <tr>\n",
       "      <th>2</th>\n",
       "      <td>0.0</td>\n",
       "      <td>0.0</td>\n",
       "      <td>0.0</td>\n",
       "      <td>0.0</td>\n",
       "      <td>0.0</td>\n",
       "      <td>0.0</td>\n",
       "      <td>0.0</td>\n",
       "      <td>0.0</td>\n",
       "      <td>0.0</td>\n",
       "      <td>0.0</td>\n",
       "      <td>...</td>\n",
       "      <td>0.0</td>\n",
       "      <td>0.0</td>\n",
       "      <td>0.0</td>\n",
       "      <td>0.0</td>\n",
       "      <td>0.0</td>\n",
       "      <td>0.0</td>\n",
       "      <td>0.0</td>\n",
       "      <td>0.0</td>\n",
       "      <td>0.0</td>\n",
       "      <td>0.0</td>\n",
       "    </tr>\n",
       "    <tr>\n",
       "      <th>3</th>\n",
       "      <td>0.0</td>\n",
       "      <td>0.0</td>\n",
       "      <td>0.0</td>\n",
       "      <td>0.0</td>\n",
       "      <td>0.0</td>\n",
       "      <td>0.0</td>\n",
       "      <td>0.0</td>\n",
       "      <td>0.0</td>\n",
       "      <td>0.0</td>\n",
       "      <td>0.0</td>\n",
       "      <td>...</td>\n",
       "      <td>0.0</td>\n",
       "      <td>0.0</td>\n",
       "      <td>0.0</td>\n",
       "      <td>0.0</td>\n",
       "      <td>0.0</td>\n",
       "      <td>0.0</td>\n",
       "      <td>0.0</td>\n",
       "      <td>0.0</td>\n",
       "      <td>0.0</td>\n",
       "      <td>0.0</td>\n",
       "    </tr>\n",
       "    <tr>\n",
       "      <th>4</th>\n",
       "      <td>0.0</td>\n",
       "      <td>0.0</td>\n",
       "      <td>0.0</td>\n",
       "      <td>0.0</td>\n",
       "      <td>0.0</td>\n",
       "      <td>0.0</td>\n",
       "      <td>0.0</td>\n",
       "      <td>0.0</td>\n",
       "      <td>0.0</td>\n",
       "      <td>0.0</td>\n",
       "      <td>...</td>\n",
       "      <td>0.0</td>\n",
       "      <td>0.0</td>\n",
       "      <td>0.0</td>\n",
       "      <td>0.0</td>\n",
       "      <td>0.0</td>\n",
       "      <td>0.0</td>\n",
       "      <td>0.0</td>\n",
       "      <td>0.0</td>\n",
       "      <td>0.0</td>\n",
       "      <td>0.0</td>\n",
       "    </tr>\n",
       "  </tbody>\n",
       "</table>\n",
       "<p>5 rows × 3699 columns</p>\n",
       "</div>"
      ],
      "text/plain": [
       "   000005  001   01   02   10  100  101  101master  102  10k  ...  zend  zero  \\\n",
       "0     0.0  0.0  0.0  0.0  0.0  0.0  0.0        0.0  0.0  0.0  ...   0.0   0.0   \n",
       "1     0.0  0.0  0.0  0.0  0.0  0.0  0.0        0.0  0.0  0.0  ...   0.0   0.0   \n",
       "2     0.0  0.0  0.0  0.0  0.0  0.0  0.0        0.0  0.0  0.0  ...   0.0   0.0   \n",
       "3     0.0  0.0  0.0  0.0  0.0  0.0  0.0        0.0  0.0  0.0  ...   0.0   0.0   \n",
       "4     0.0  0.0  0.0  0.0  0.0  0.0  0.0        0.0  0.0  0.0  ...   0.0   0.0   \n",
       "\n",
       "   zerotohero  zf2  zinsen  zoho  zombie   zu  zuhause  zur  \n",
       "0         0.0  0.0     0.0   0.0     0.0  0.0      0.0  0.0  \n",
       "1         0.0  0.0     0.0   0.0     0.0  0.0      0.0  0.0  \n",
       "2         0.0  0.0     0.0   0.0     0.0  0.0      0.0  0.0  \n",
       "3         0.0  0.0     0.0   0.0     0.0  0.0      0.0  0.0  \n",
       "4         0.0  0.0     0.0   0.0     0.0  0.0      0.0  0.0  \n",
       "\n",
       "[5 rows x 3699 columns]"
      ]
     },
     "execution_count": 17,
     "metadata": {},
     "output_type": "execute_result"
    }
   ],
   "source": [
    "df_cv_words.head()"
   ]
  },
  {
   "cell_type": "code",
   "execution_count": 18,
   "metadata": {},
   "outputs": [],
   "source": [
    "# Cosine Similarity Matrix\n",
    "cosine_sim_mat = cosine_similarity(cv_mat)"
   ]
  },
  {
   "cell_type": "code",
   "execution_count": 21,
   "metadata": {
    "jupyter": {
     "outputs_hidden": true
    }
   },
   "outputs": [
    {
     "data": {
      "text/plain": [
       "array([[1.        , 0.36448689, 0.40875416, ..., 0.        , 0.        ,\n",
       "        0.        ],\n",
       "       [0.36448689, 1.        , 0.34747136, ..., 0.        , 0.        ,\n",
       "        0.        ],\n",
       "       [0.40875416, 0.34747136, 1.        , ..., 0.        , 0.        ,\n",
       "        0.        ],\n",
       "       ...,\n",
       "       [0.        , 0.        , 0.        , ..., 1.        , 0.        ,\n",
       "        0.12063291],\n",
       "       [0.        , 0.        , 0.        , ..., 0.        , 1.        ,\n",
       "        0.        ],\n",
       "       [0.        , 0.        , 0.        , ..., 0.12063291, 0.        ,\n",
       "        1.        ]])"
      ]
     },
     "execution_count": 21,
     "metadata": {},
     "output_type": "execute_result"
    }
   ],
   "source": [
    "cosine_sim_mat"
   ]
  },
  {
   "cell_type": "markdown",
   "metadata": {},
   "source": [
    "#  Calculate Cosine similarty"
   ]
  },
  {
   "cell_type": "code",
   "execution_count": 29,
   "metadata": {},
   "outputs": [],
   "source": [
    "# Get Course ID/Index\n",
    "course_indices = pd.Series(df.index,index=df['course_title']).drop_duplicates()"
   ]
  },
  {
   "cell_type": "code",
   "execution_count": 30,
   "metadata": {},
   "outputs": [
    {
     "name": "stdout",
     "output_type": "stream",
     "text": [
      "course_title\n",
      "Data Engineer                                                  0\n",
      "Data Scientist                                                 1\n",
      "Data Analyst                                                   2\n",
      "C++                                                            3\n",
      "Product Manager                                                4\n",
      "                                                            ... \n",
      "Learn jQuery from Scratch - Master of JavaScript library    3936\n",
      "How To Design A WordPress Website With No Coding At All     3937\n",
      "Learn and Build using Polymer                               3938\n",
      "CSS Animations: Create Amazing Effects on Your Website      3939\n",
      "Using MODX CMS to Build Websites: A Beginner's Guide        3940\n",
      "Length: 3941, dtype: int64\n"
     ]
    },
    {
     "data": {
      "text/plain": [
       "pandas.core.series.Series"
      ]
     },
     "execution_count": 30,
     "metadata": {},
     "output_type": "execute_result"
    }
   ],
   "source": [
    "print(course_indices)\n",
    "type(course_indices)"
   ]
  },
  {
   "cell_type": "markdown",
   "metadata": {},
   "source": [
    "#  Feature Extraction & Model Traning"
   ]
  },
  {
   "cell_type": "code",
   "execution_count": 48,
   "metadata": {},
   "outputs": [
    {
     "data": {
      "text/plain": [
       "Web Development                        1200\n",
       "Business Finance                       1195\n",
       "Musical Instruments                     680\n",
       "Graphic Design                          603\n",
       "School of Programming & Development     143\n",
       "School of Artificial Intelligence        42\n",
       "School of Business                       16\n",
       "School of Data Science                   15\n",
       "School of Product Management             13\n",
       "Career Advancement                       11\n",
       "School of Autonomous Systems             10\n",
       "School of Cloud Computing                 9\n",
       "School of Cybersecurity                   4\n",
       "Name: course_field, dtype: int64"
      ]
     },
     "execution_count": 48,
     "metadata": {},
     "output_type": "execute_result"
    }
   ],
   "source": [
    "df['course_field'].value_counts()"
   ]
  },
  {
   "cell_type": "code",
   "execution_count": 49,
   "metadata": {},
   "outputs": [],
   "source": [
    "#plt.scatter(df.course_field,df.course_title)"
   ]
  },
  {
   "cell_type": "code",
   "execution_count": 51,
   "metadata": {},
   "outputs": [],
   "source": [
    "import time\n",
    "from nltk.classify.scikitlearn import SklearnClassifier \n",
    "from sklearn.neighbors import KNeighborsClassifier\n",
    "from sklearn.tree import DecisionTreeClassifier\n",
    "from sklearn.ensemble import RandomForestClassifier\n",
    "from sklearn.linear_model import LogisticRegression, SGDClassifier\n",
    "from sklearn.naive_bayes import MultinomialNB\n",
    "from sklearn.svm import SVC\n",
    "from sklearn.metrics import accuracy_score, f1_score\n",
    "from sklearn.metrics import PrecisionRecallDisplay\n",
    "from sklearn.pipeline import make_pipeline\n",
    "from sklearn.preprocessing import StandardScaler\n",
    "from sklearn.model_selection import train_test_split\n",
    "from sklearn.feature_extraction.text import CountVectorizer\n",
    "from sklearn.feature_extraction.text import TfidfVectorizer"
   ]
  },
  {
   "cell_type": "code",
   "execution_count": 52,
   "metadata": {},
   "outputs": [],
   "source": [
    "x_train, x_test, y_train, y_test = train_test_split(cv_mat, df['course_field'], random_state=42, test_size=0.2)\n"
   ]
  },
  {
   "cell_type": "code",
   "execution_count": 53,
   "metadata": {},
   "outputs": [],
   "source": [
    "def train_models(X_train,Y_train,X_test,Y_test):\n",
    "    \n",
    "    print('---------------------Start Training-------------------------------')\n",
    "    \n",
    "    start_time = time.time()\n",
    "    \n",
    "    # Define models to train\n",
    "    \n",
    "    names = [\"K Nearest Neighbors\", \"Decision Tree\", \"Random Forest\", \"Logistic Regression\", \"SGD Classifier\",\n",
    "             \"Naive Bayes\", \"SVM Linear\"]\n",
    "\n",
    "    classifiers = [\n",
    "        KNeighborsClassifier(),\n",
    "        DecisionTreeClassifier(),\n",
    "        RandomForestClassifier(),\n",
    "        LogisticRegression(solver='lbfgs', max_iter=1000),\n",
    "        SGDClassifier(max_iter = 100),\n",
    "        MultinomialNB(),\n",
    "        SVC(kernel = 'linear')\n",
    "    ]\n",
    "\n",
    "    models = zip(names, classifiers)\n",
    "    \n",
    "    scored_models=dict()\n",
    "\n",
    "    for name, model in models:\n",
    "        nltk_model = model\n",
    "        nltk_model.fit(X_train,Y_train)\n",
    "        pred = model.predict(X_test)\n",
    "        scored_models[name]=[model,pred]\n",
    "        score=f1_score(Y_test, pred,average='micro')\n",
    "        accuracy = accuracy_score(Y_test,pred) \n",
    "        per_score=precision_score(y_test, pred,average='micro')\n",
    "        rec_score=recall_score(y_test, pred,average='micro')\n",
    "        print(name,\"had Trained and it's Accuracy: \", accuracy,\" and it's Score: \",score)\n",
    "\n",
    "    print('---------------------End of Training-------------------------------')\n",
    "    \n",
    "    print(\"-------- \",(time.time() - start_time),' Secounds --------')\n",
    "    \n",
    "    return scored_models"
   ]
  },
  {
   "cell_type": "code",
   "execution_count": 54,
   "metadata": {},
   "outputs": [
    {
     "name": "stdout",
     "output_type": "stream",
     "text": [
      "---------------------Start Training-------------------------------\n",
      "K Nearest Neighbors had Trained and it's Accuracy:  0.49302915082382764  and it's Score:  0.49302915082382764\n",
      "Decision Tree had Trained and it's Accuracy:  0.8403041825095057  and it's Score:  0.8403041825095057\n",
      "Random Forest had Trained and it's Accuracy:  0.8770595690747782  and it's Score:  0.8770595690747782\n",
      "Logistic Regression had Trained and it's Accuracy:  0.8694550063371356  and it's Score:  0.8694550063371356\n",
      "SGD Classifier had Trained and it's Accuracy:  0.9112801013941698  and it's Score:  0.9112801013941698\n",
      "Naive Bayes had Trained and it's Accuracy:  0.8517110266159695  and it's Score:  0.8517110266159695\n",
      "SVM Linear had Trained and it's Accuracy:  0.8973384030418251  and it's Score:  0.8973384030418251\n",
      "---------------------End of Training-------------------------------\n",
      "--------  2.8906896114349365  Secounds --------\n"
     ]
    }
   ],
   "source": [
    "trained_models=train_models(X_train=x_train,Y_train=y_train,X_test=x_test,Y_test=y_test)\n"
   ]
  },
  {
   "cell_type": "markdown",
   "metadata": {},
   "source": [
    "#  Test Model Against Real Data"
   ]
  },
  {
   "cell_type": "code",
   "execution_count": 61,
   "metadata": {},
   "outputs": [],
   "source": [
    "course_name='Trading Options Basics'"
   ]
  },
  {
   "cell_type": "code",
   "execution_count": 62,
   "metadata": {},
   "outputs": [],
   "source": [
    "result = trained_models['Naive Bayes'][0].predict(vect.transform([course_name]))"
   ]
  },
  {
   "cell_type": "code",
   "execution_count": 63,
   "metadata": {},
   "outputs": [
    {
     "name": "stdout",
     "output_type": "stream",
     "text": [
      "This Course Is -> Business Finance <-Course\n"
     ]
    }
   ],
   "source": [
    "print('This Course Is ->',result[0],'<-Course')"
   ]
  },
  {
   "cell_type": "markdown",
   "metadata": {},
   "source": [
    "#  Recommend Top-N Courses "
   ]
  },
  {
   "cell_type": "code",
   "execution_count": 66,
   "metadata": {},
   "outputs": [],
   "source": [
    "def recommend_course(title,field,num_of_rec=10):\n",
    "    # ID for title\n",
    "    idx = course_indices[title]\n",
    "    # Course Indice\n",
    "    # Search inside cosine_sim_mat\n",
    "    scores = list(enumerate(cosine_sim_mat[idx]))\n",
    "    # Scores\n",
    "    # Sort Scores\n",
    "    sorted_scores = sorted(scores,key=lambda x:x[1],reverse=True)\n",
    "    # Recommend\n",
    "    selected_course_indices = [i[0] for i in sorted_scores[1:]]\n",
    "    selected_course_scores = [i[1] for i in sorted_scores[1:]]\n",
    "\n",
    "    result = {'Course':df['course_title'].iloc[selected_course_indices[0:]],'Field':df['course_field'].iloc[selected_course_indices[0:]]}\n",
    "    rec_df = pd.DataFrame(result)\n",
    "    dd=rec_df.loc[rec_df.Field == field]\n",
    "\n",
    "    return dd.head(num_of_rec) \n",
    "    "
   ]
  },
  {
   "cell_type": "code",
   "execution_count": 67,
   "metadata": {},
   "outputs": [
    {
     "data": {
      "text/html": [
       "<div>\n",
       "<style scoped>\n",
       "    .dataframe tbody tr th:only-of-type {\n",
       "        vertical-align: middle;\n",
       "    }\n",
       "\n",
       "    .dataframe tbody tr th {\n",
       "        vertical-align: top;\n",
       "    }\n",
       "\n",
       "    .dataframe thead th {\n",
       "        text-align: right;\n",
       "    }\n",
       "</style>\n",
       "<table border=\"1\" class=\"dataframe\">\n",
       "  <thead>\n",
       "    <tr style=\"text-align: right;\">\n",
       "      <th></th>\n",
       "      <th>Course</th>\n",
       "      <th>Field</th>\n",
       "    </tr>\n",
       "  </thead>\n",
       "  <tbody>\n",
       "    <tr>\n",
       "      <th>358</th>\n",
       "      <td>Options Trading 101: The Basics</td>\n",
       "      <td>Business Finance</td>\n",
       "    </tr>\n",
       "    <tr>\n",
       "      <th>1124</th>\n",
       "      <td>Basics of Trading</td>\n",
       "      <td>Business Finance</td>\n",
       "    </tr>\n",
       "    <tr>\n",
       "      <th>456</th>\n",
       "      <td>Trading Options For Consistent Returns: Option...</td>\n",
       "      <td>Business Finance</td>\n",
       "    </tr>\n",
       "    <tr>\n",
       "      <th>1063</th>\n",
       "      <td>Trading: Basics of Trading for Beginners</td>\n",
       "      <td>Business Finance</td>\n",
       "    </tr>\n",
       "    <tr>\n",
       "      <th>1072</th>\n",
       "      <td>Learn Call Options and Put Options - Introduct...</td>\n",
       "      <td>Business Finance</td>\n",
       "    </tr>\n",
       "    <tr>\n",
       "      <th>1216</th>\n",
       "      <td>Options Basics &amp; Trading With Small Capital! -...</td>\n",
       "      <td>Business Finance</td>\n",
       "    </tr>\n",
       "    <tr>\n",
       "      <th>329</th>\n",
       "      <td>Options Trading Basics (3-Course Bundle)</td>\n",
       "      <td>Business Finance</td>\n",
       "    </tr>\n",
       "    <tr>\n",
       "      <th>999</th>\n",
       "      <td>Advanced Options Trading Course</td>\n",
       "      <td>Business Finance</td>\n",
       "    </tr>\n",
       "    <tr>\n",
       "      <th>396</th>\n",
       "      <td>Forex Trading for Beginners - Basics</td>\n",
       "      <td>Business Finance</td>\n",
       "    </tr>\n",
       "    <tr>\n",
       "      <th>357</th>\n",
       "      <td>Intermediate Options trading concepts for Stoc...</td>\n",
       "      <td>Business Finance</td>\n",
       "    </tr>\n",
       "    <tr>\n",
       "      <th>334</th>\n",
       "      <td>Options Trading Introduction: Day Trade Stock ...</td>\n",
       "      <td>Business Finance</td>\n",
       "    </tr>\n",
       "    <tr>\n",
       "      <th>306</th>\n",
       "      <td>Options Trading - How to Win with Weekly Options</td>\n",
       "      <td>Business Finance</td>\n",
       "    </tr>\n",
       "    <tr>\n",
       "      <th>1207</th>\n",
       "      <td>Forex trading with binary options</td>\n",
       "      <td>Business Finance</td>\n",
       "    </tr>\n",
       "    <tr>\n",
       "      <th>1250</th>\n",
       "      <td>Simple Options Trading System</td>\n",
       "      <td>Business Finance</td>\n",
       "    </tr>\n",
       "    <tr>\n",
       "      <th>399</th>\n",
       "      <td>Forex Trading with Fixed 'Risk through Options...</td>\n",
       "      <td>Business Finance</td>\n",
       "    </tr>\n",
       "    <tr>\n",
       "      <th>1064</th>\n",
       "      <td>Options Spreads Bundle-  the heart of Options ...</td>\n",
       "      <td>Business Finance</td>\n",
       "    </tr>\n",
       "    <tr>\n",
       "      <th>639</th>\n",
       "      <td>Foundation of Options Trading and Investing</td>\n",
       "      <td>Business Finance</td>\n",
       "    </tr>\n",
       "    <tr>\n",
       "      <th>1090</th>\n",
       "      <td>The Beginner's Guide to the Futures and Option...</td>\n",
       "      <td>Business Finance</td>\n",
       "    </tr>\n",
       "    <tr>\n",
       "      <th>591</th>\n",
       "      <td>Professional Options Trading, Simplified</td>\n",
       "      <td>Business Finance</td>\n",
       "    </tr>\n",
       "    <tr>\n",
       "      <th>705</th>\n",
       "      <td>The Advantages of ETF Options and Index Option...</td>\n",
       "      <td>Business Finance</td>\n",
       "    </tr>\n",
       "  </tbody>\n",
       "</table>\n",
       "</div>"
      ],
      "text/plain": [
       "                                                 Course             Field\n",
       "358                     Options Trading 101: The Basics  Business Finance\n",
       "1124                                  Basics of Trading  Business Finance\n",
       "456   Trading Options For Consistent Returns: Option...  Business Finance\n",
       "1063           Trading: Basics of Trading for Beginners  Business Finance\n",
       "1072  Learn Call Options and Put Options - Introduct...  Business Finance\n",
       "1216  Options Basics & Trading With Small Capital! -...  Business Finance\n",
       "329            Options Trading Basics (3-Course Bundle)  Business Finance\n",
       "999                     Advanced Options Trading Course  Business Finance\n",
       "396                Forex Trading for Beginners - Basics  Business Finance\n",
       "357   Intermediate Options trading concepts for Stoc...  Business Finance\n",
       "334   Options Trading Introduction: Day Trade Stock ...  Business Finance\n",
       "306    Options Trading - How to Win with Weekly Options  Business Finance\n",
       "1207                  Forex trading with binary options  Business Finance\n",
       "1250                      Simple Options Trading System  Business Finance\n",
       "399   Forex Trading with Fixed 'Risk through Options...  Business Finance\n",
       "1064  Options Spreads Bundle-  the heart of Options ...  Business Finance\n",
       "639         Foundation of Options Trading and Investing  Business Finance\n",
       "1090  The Beginner's Guide to the Futures and Option...  Business Finance\n",
       "591            Professional Options Trading, Simplified  Business Finance\n",
       "705   The Advantages of ETF Options and Index Option...  Business Finance"
      ]
     },
     "execution_count": 67,
     "metadata": {},
     "output_type": "execute_result"
    }
   ],
   "source": [
    "recommend_course(course_name,result[0],20)"
   ]
  },
  {
   "cell_type": "code",
   "execution_count": null,
   "metadata": {},
   "outputs": [],
   "source": []
  }
 ],
 "metadata": {
  "kernelspec": {
   "display_name": "Python 3 (ipykernel)",
   "language": "python",
   "name": "python3"
  },
  "language_info": {
   "codemirror_mode": {
    "name": "ipython",
    "version": 3
   },
   "file_extension": ".py",
   "mimetype": "text/x-python",
   "name": "python",
   "nbconvert_exporter": "python",
   "pygments_lexer": "ipython3",
   "version": "3.9.7"
  }
 },
 "nbformat": 4,
 "nbformat_minor": 4
}
